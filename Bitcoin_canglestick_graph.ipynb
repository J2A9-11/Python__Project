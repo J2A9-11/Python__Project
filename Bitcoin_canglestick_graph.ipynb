{
 "cells": [
  {
   "cell_type": "code",
   "execution_count": 1,
   "metadata": {},
   "outputs": [
    {
     "data": {
      "text/html": [
       "<div>\n",
       "<style scoped>\n",
       "    .dataframe tbody tr th:only-of-type {\n",
       "        vertical-align: middle;\n",
       "    }\n",
       "\n",
       "    .dataframe tbody tr th {\n",
       "        vertical-align: top;\n",
       "    }\n",
       "\n",
       "    .dataframe thead th {\n",
       "        text-align: right;\n",
       "    }\n",
       "</style>\n",
       "<table border=\"1\" class=\"dataframe\">\n",
       "  <thead>\n",
       "    <tr style=\"text-align: right;\">\n",
       "      <th></th>\n",
       "      <th>TimeStamp</th>\n",
       "      <th>Price</th>\n",
       "    </tr>\n",
       "  </thead>\n",
       "  <tbody>\n",
       "    <tr>\n",
       "      <th>0</th>\n",
       "      <td>1722838975528</td>\n",
       "      <td>50942.465793</td>\n",
       "    </tr>\n",
       "    <tr>\n",
       "      <th>1</th>\n",
       "      <td>1722843118603</td>\n",
       "      <td>52777.877282</td>\n",
       "    </tr>\n",
       "    <tr>\n",
       "      <th>2</th>\n",
       "      <td>1722844922383</td>\n",
       "      <td>52675.128080</td>\n",
       "    </tr>\n",
       "    <tr>\n",
       "      <th>3</th>\n",
       "      <td>1722850272722</td>\n",
       "      <td>52779.791617</td>\n",
       "    </tr>\n",
       "    <tr>\n",
       "      <th>4</th>\n",
       "      <td>1722852355009</td>\n",
       "      <td>52610.725064</td>\n",
       "    </tr>\n",
       "  </tbody>\n",
       "</table>\n",
       "</div>"
      ],
      "text/plain": [
       "       TimeStamp         Price\n",
       "0  1722838975528  50942.465793\n",
       "1  1722843118603  52777.877282\n",
       "2  1722844922383  52675.128080\n",
       "3  1722850272722  52779.791617\n",
       "4  1722852355009  52610.725064"
      ]
     },
     "execution_count": 1,
     "metadata": {},
     "output_type": "execute_result"
    }
   ],
   "source": [
    "import pandas as pd\n",
    "from pycoingecko import CoinGeckoAPI\n",
    "cg=CoinGeckoAPI()\n",
    "bitcoin_data=cg.get_coin_market_chart_by_id(id='bitcoin',vs_currency='usd',days=30)\n",
    "data=pd.DataFrame(bitcoin_data['prices'],columns=['TimeStamp','Price'])\n",
    "data.head()"
   ]
  },
  {
   "cell_type": "code",
   "execution_count": 2,
   "metadata": {},
   "outputs": [
    {
     "data": {
      "text/html": [
       "<div>\n",
       "<style scoped>\n",
       "    .dataframe tbody tr th:only-of-type {\n",
       "        vertical-align: middle;\n",
       "    }\n",
       "\n",
       "    .dataframe tbody tr th {\n",
       "        vertical-align: top;\n",
       "    }\n",
       "\n",
       "    .dataframe thead th {\n",
       "        text-align: right;\n",
       "    }\n",
       "</style>\n",
       "<table border=\"1\" class=\"dataframe\">\n",
       "  <thead>\n",
       "    <tr style=\"text-align: right;\">\n",
       "      <th></th>\n",
       "      <th>TimeStamp</th>\n",
       "      <th>Price</th>\n",
       "      <th>Date</th>\n",
       "    </tr>\n",
       "  </thead>\n",
       "  <tbody>\n",
       "    <tr>\n",
       "      <th>0</th>\n",
       "      <td>1722838975528</td>\n",
       "      <td>50942.465793</td>\n",
       "      <td>2024-08-05 06:22:55.528</td>\n",
       "    </tr>\n",
       "    <tr>\n",
       "      <th>1</th>\n",
       "      <td>1722843118603</td>\n",
       "      <td>52777.877282</td>\n",
       "      <td>2024-08-05 07:31:58.603</td>\n",
       "    </tr>\n",
       "    <tr>\n",
       "      <th>2</th>\n",
       "      <td>1722844922383</td>\n",
       "      <td>52675.128080</td>\n",
       "      <td>2024-08-05 08:02:02.383</td>\n",
       "    </tr>\n",
       "    <tr>\n",
       "      <th>3</th>\n",
       "      <td>1722850272722</td>\n",
       "      <td>52779.791617</td>\n",
       "      <td>2024-08-05 09:31:12.722</td>\n",
       "    </tr>\n",
       "    <tr>\n",
       "      <th>4</th>\n",
       "      <td>1722852355009</td>\n",
       "      <td>52610.725064</td>\n",
       "      <td>2024-08-05 10:05:55.009</td>\n",
       "    </tr>\n",
       "  </tbody>\n",
       "</table>\n",
       "</div>"
      ],
      "text/plain": [
       "       TimeStamp         Price                    Date\n",
       "0  1722838975528  50942.465793 2024-08-05 06:22:55.528\n",
       "1  1722843118603  52777.877282 2024-08-05 07:31:58.603\n",
       "2  1722844922383  52675.128080 2024-08-05 08:02:02.383\n",
       "3  1722850272722  52779.791617 2024-08-05 09:31:12.722\n",
       "4  1722852355009  52610.725064 2024-08-05 10:05:55.009"
      ]
     },
     "execution_count": 2,
     "metadata": {},
     "output_type": "execute_result"
    }
   ],
   "source": [
    "data['Date']=pd.to_datetime(data['TimeStamp'],unit='ms')\n",
    "data.head()"
   ]
  },
  {
   "cell_type": "code",
   "execution_count": 3,
   "metadata": {},
   "outputs": [
    {
     "data": {
      "text/plain": [
       "'./bitcoin_candlestick_pattern.html'"
      ]
     },
     "execution_count": 3,
     "metadata": {},
     "output_type": "execute_result"
    }
   ],
   "source": [
    "import plotly\n",
    "from plotly import graph_objects as go\n",
    "candle_stick=data.groupby(data.Date.dt.date).agg({'Price':['min','max','first','last']})\n",
    "fig=go.Figure(data=[go.Candlestick(x=candle_stick.index,open=candle_stick['Price']['first'],high=candle_stick['Price']['max'],low=candle_stick['Price']['min'],close=candle_stick['Price']['last'])])\n",
    "fig.update_layout(xaxis_rangeslider_visible=False,xaxis_title='Date',yaxis_title='Price(USD)')\n",
    "plotly.offline.plot(fig,filename='./bitcoin_candlestick_pattern.html',auto_open=True)"
   ]
  },
  {
   "cell_type": "code",
   "execution_count": null,
   "metadata": {},
   "outputs": [],
   "source": []
  }
 ],
 "metadata": {
  "kernelspec": {
   "display_name": "Python 3",
   "language": "python",
   "name": "python3"
  },
  "language_info": {
   "codemirror_mode": {
    "name": "ipython",
    "version": 3
   },
   "file_extension": ".py",
   "mimetype": "text/x-python",
   "name": "python",
   "nbconvert_exporter": "python",
   "pygments_lexer": "ipython3",
   "version": "3.12.5"
  }
 },
 "nbformat": 4,
 "nbformat_minor": 2
}
